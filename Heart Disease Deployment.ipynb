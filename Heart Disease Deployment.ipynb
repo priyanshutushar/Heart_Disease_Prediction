{
 "cells": [
  {
   "cell_type": "markdown",
   "metadata": {},
   "source": [
    "# Loading the model"
   ]
  },
  {
   "cell_type": "code",
   "execution_count": 1,
   "metadata": {},
   "outputs": [],
   "source": [
    "import pickle\n",
    "\n",
    "file = open(\"heart_model.pkl\",\"rb\")\n",
    "\n",
    "clf = pickle.load(file)\n",
    "\n",
    "file.close()"
   ]
  },
  {
   "cell_type": "markdown",
   "metadata": {},
   "source": [
    "# Using the model"
   ]
  },
  {
   "cell_type": "code",
   "execution_count": 2,
   "metadata": {},
   "outputs": [
    {
     "name": "stdout",
     "output_type": "stream",
     "text": [
      "Enter 1 for male and 0 for female : 1\n",
      "Enter age : 12\n",
      "Enter status of current smoker (0 or 1) : 1\n",
      "Enter cigrattes per day : 12\n",
      "Enter blood pressure medication status (0 or 1) : 1\n",
      "Enter prevalent stroke status (0 or 1) : 1\n",
      "Enter prevalent hypertension status (0 or 1) : 1\n",
      "Enter diabetes status (0 or 1) : 1\n",
      "Enter total cholestrol level : 45\n",
      "Enter systolic blood pressure level : 67\n",
      "Enter diastolic blood pressure level : 89\n",
      "Enter BMI index : 76\n",
      "Enter heart rate level : 88\n",
      "Enter glucose level : 99\n",
      "\n",
      "Person not having risk of coronary heart disease (CHD)\n"
     ]
    }
   ],
   "source": [
    "gender = int(input(\"Enter 1 for male and 0 for female : \"))\n",
    "age = int(input(\"Enter age : \"))\n",
    "current_smoker = int(input(\"Enter status of current smoker (0 or 1) : \"))\n",
    "cigs = float(input(\"Enter cigrattes per day : \"))\n",
    "bpmeds = int(input(\"Enter blood pressure medication status (0 or 1) : \"))\n",
    "prestroke = int(input(\"Enter prevalent stroke status (0 or 1) : \"))\n",
    "prehyp = int(input(\"Enter prevalent hypertension status (0 or 1) : \"))\n",
    "diab = int(input(\"Enter diabetes status (0 or 1) : \"))\n",
    "totchol = float(input(\"Enter total cholestrol level : \" ))\n",
    "sysBP = float(input(\"Enter systolic blood pressure level : \"))\n",
    "diaBP = float(input(\"Enter diastolic blood pressure level : \"))\n",
    "bmi = float(input(\"Enter BMI index : \"))\n",
    "heartrate = float(input(\"Enter heart rate level : \"))\n",
    "gluc = float(input(\"Enter glucose level : \"))\n",
    "\n",
    "input_features = [[gender,age,current_smoker,cigs,bpmeds,prestroke,prehyp,diab,totchol,sysBP,diaBP,bmi,heartrate,gluc]]\n",
    "\n",
    "heart_predict = clf.predict(input_features)\n",
    "\n",
    "if heart_predict == [1]:\n",
    "    print(\"\\nPerson having risk of coronary heart disease (CHD)\")\n",
    "else:\n",
    "    print(\"\\nPerson not having risk of coronary heart disease (CHD)\")"
   ]
  }
 ],
 "metadata": {
  "kernelspec": {
   "display_name": "Python 3",
   "language": "python",
   "name": "python3"
  },
  "language_info": {
   "codemirror_mode": {
    "name": "ipython",
    "version": 3
   },
   "file_extension": ".py",
   "mimetype": "text/x-python",
   "name": "python",
   "nbconvert_exporter": "python",
   "pygments_lexer": "ipython3",
   "version": "3.7.6"
  }
 },
 "nbformat": 4,
 "nbformat_minor": 4
}
